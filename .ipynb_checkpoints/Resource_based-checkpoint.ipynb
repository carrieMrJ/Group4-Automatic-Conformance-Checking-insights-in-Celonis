{
 "cells": [
  {
   "cell_type": "code",
   "execution_count": 9,
   "id": "3668366b",
   "metadata": {},
   "outputs": [],
   "source": [
    "import pandas as pd\n",
    "import pycelonis\n",
    "import yaml\n",
    "from pycelonis.pql import PQL, PQLColumn, PQLFilter, OrderByColumn\n",
    "from pycelonis_core.utils.errors import PyCelonisNotFoundError\n",
    "import numpy as np\n",
    "from collections import defaultdict\n",
    "from src.data_integration.celonis_data_integration import get_connection, get_celonis_info, create_pool_and_model, check_invalid_table_in_celonis, execute_PQL_query\n",
    "from src.data_integration.get_data import get_execution_time_per_res_per_act, get_unique_activity, get_unique_resource, get_res_act_relation, get_target_activity_with_start_end_timestamp \n",
    "from src.resource_based.resource_performance import resource_performance\n",
    "from src.resource_based.batch_identification import batch_identification\n",
    "from src.data_integration.get_data import get_caseid_activity_lifecycle_resource\n",
    "from src.resource_based.find_high_rework_resources_analysis import find_high_rework_resources\n",
    "from src.resource_based.find_deviations_analysis import find_deviations"
   ]
  },
  {
   "cell_type": "code",
   "execution_count": 10,
   "id": "57cf3dad",
   "metadata": {},
   "outputs": [],
   "source": [
    "def resource_based_overall(celonis, table, rework_threshold=1, count_threshold=2, deviations_threshold=1):\n",
    "    # get the data pool and data model of our project\n",
    "    data_pool, data_model, pool_name, model_name, case_column_name, act_column_name, time_column_name, res_column_name, lifecycle = get_celonis_info(\n",
    "        celonis=celonis)\n",
    "\n",
    "    # check if one table is invalid (does not exist in our data pool/model)\n",
    "    if not check_invalid_table_in_celonis(data_model, table):\n",
    "        df = get_execution_time_per_res_per_act(data_model, table, case_column_name, act_column_name,\n",
    "                                                res_column_name, time_column_name)\n",
    "    else:\n",
    "        print(f\"No such table\")\n",
    "        return None\n",
    "\n",
    "    le, me = resource_performance(df)\n",
    "\n",
    "    batch_data = get_target_activity_with_start_end_timestamp(data_model, table, case_column_name, act_column_name,\n",
    "                                                res_column_name, time_column_name)\n",
    "    resources = get_unique_resource(batch_data, \"resource\")\n",
    "    activities = get_unique_activity(batch_data, \"activity\")\n",
    "\n",
    "    import warnings\n",
    "    warnings.filterwarnings('ignore')\n",
    "\n",
    "    df_sim, df_seq, df_con = batch_identification(batch_data, activities)\n",
    "\n",
    "    df = get_caseid_activity_lifecycle_resource(data_model, table, case_column_name, act_column_name, res_column_name, lifecycle)\n",
    "\n",
    "    # find high rework resources\n",
    "    high_rework_resources = find_high_rework_resources(df, rework_threshold, count_threshold)\n",
    "\n",
    "    # get data using PQL\n",
    "    df = get_caseid_activity_lifecycle_resource(data_model, table, case_column_name, act_column_name, res_column_name, lifecycle)\n",
    "\n",
    "    deviations = find_deviations(df, deviations_threshold)\n",
    "\n",
    "    return le, me, df_sim, df_seq, df_con, high_rework_resources, deviations\n"
   ]
  }
 ],
 "metadata": {
  "kernelspec": {
   "display_name": "Python 3 (ipykernel)",
   "language": "python",
   "name": "python3"
  },
  "language_info": {
   "codemirror_mode": {
    "name": "ipython",
    "version": 3
   },
   "file_extension": ".py",
   "mimetype": "text/x-python",
   "name": "python",
   "nbconvert_exporter": "python",
   "pygments_lexer": "ipython3",
   "version": "3.8.13"
  }
 },
 "nbformat": 4,
 "nbformat_minor": 5
}
